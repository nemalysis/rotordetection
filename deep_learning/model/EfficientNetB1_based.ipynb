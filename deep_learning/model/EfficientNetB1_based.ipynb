{
 "metadata": {
  "language_info": {
   "codemirror_mode": {
    "name": "ipython",
    "version": 3
   },
   "file_extension": ".py",
   "mimetype": "text/x-python",
   "name": "python",
   "nbconvert_exporter": "python",
   "pygments_lexer": "ipython3",
   "version": "3.9.5"
  },
  "orig_nbformat": 4,
  "kernelspec": {
   "name": "python3",
   "display_name": "Python 3.9.5 64-bit"
  },
  "interpreter": {
   "hash": "7df0458af773999cfe7b25508a0c2fa5a4feae4fdf3eeeda1e2f71f7c114939e"
  }
 },
 "nbformat": 4,
 "nbformat_minor": 2,
 "cells": [
  {
   "cell_type": "code",
   "execution_count": 1,
   "metadata": {},
   "outputs": [],
   "source": [
    "from tensorflow.keras.applications import *\n",
    "from tensorflow.keras import models\n",
    "from tensorflow.keras import layers\n",
    "import pathlib\n",
    "import os\n",
    "import shutil\n",
    "import pandas as pd\n",
    "from random import randrange\n",
    "from tensorflow.keras import optimizers\n",
    "from sklearn import model_selection\n",
    "import tensorflow as tf\n",
    "import numpy as np"
   ]
  },
  {
   "cell_type": "code",
   "execution_count": 2,
   "metadata": {},
   "outputs": [
    {
     "output_type": "stream",
     "name": "stdout",
     "text": [
      "Found 27888 files belonging to 4 classes.\n",
      "Using 16732 files for validation.\n",
      "Found 9923 files belonging to 4 classes.\n",
      "Using 1984 files for validation.\n",
      "['DL1', 'DL2', 'DL3', 'DL_BG']\n"
     ]
    }
   ],
   "source": [
    "\n",
    "train_dir = r'C:\\Users\\superuser\\Documents\\DL\\train\\merged'\n",
    "train_dir = pathlib.Path(train_dir)\n",
    "test_dir = r'C:\\Users\\superuser\\Documents\\DL\\test\\merged'\n",
    "test_dir = pathlib.Path(test_dir)\n",
    "\n",
    "batch_size = 32\n",
    "img_height = 360\n",
    "img_width = 640\n",
    "input_shape=(img_height, img_width, 3)\n",
    "\n",
    "seed = randrange(1000)\n",
    "\n",
    "train_ds = tf.keras.preprocessing.image_dataset_from_directory(\n",
    "  train_dir,\n",
    "  validation_split = 0.6,\n",
    "  label_mode = 'categorical',\n",
    "  subset = 'validation',\n",
    "  seed = seed,\n",
    "  smart_resize = True,\n",
    "  image_size=(img_height, img_width),\n",
    "  batch_size=batch_size)\n",
    "\n",
    "test_ds = tf.keras.preprocessing.image_dataset_from_directory(\n",
    "  test_dir,\n",
    "  validation_split = 0.2,\n",
    "  label_mode = 'categorical',\n",
    "  subset = 'validation',\n",
    "  seed = seed,\n",
    "  smart_resize = True,\n",
    "  image_size=(img_height, img_width),\n",
    "  batch_size=batch_size)\n",
    "\n",
    "class_names = train_ds.class_names\n",
    "n_classes = len(class_names)\n",
    "print(class_names)\n",
    "\n",
    "AUTOTUNE = tf.data.AUTOTUNE\n",
    "train_ds = train_ds.cache().shuffle(1000).prefetch(buffer_size=AUTOTUNE)\n",
    "test_ds = test_ds.cache().prefetch(buffer_size=AUTOTUNE)"
   ]
  },
  {
   "cell_type": "code",
   "execution_count": 3,
   "metadata": {},
   "outputs": [],
   "source": [
    "conv_base = EfficientNetB1(weights='imagenet',include_top=False,input_shape=input_shape)"
   ]
  },
  {
   "cell_type": "code",
   "execution_count": 4,
   "metadata": {},
   "outputs": [
    {
     "output_type": "stream",
     "name": "stdout",
     "text": [
      "Model: \"sequential\"\n_________________________________________________________________\nLayer (type)                 Output Shape              Param #   \n=================================================================\nefficientnetb1 (Functional)  (None, 12, 20, 1280)      6575239   \n_________________________________________________________________\ngap (GlobalMaxPooling2D)     (None, 1280)              0         \n_________________________________________________________________\ndropout (Dropout)            (None, 1280)              0         \n_________________________________________________________________\nfc_out (Dense)               (None, 4)                 5124      \n=================================================================\nTotal params: 6,580,363\nTrainable params: 5,124\nNon-trainable params: 6,575,239\n_________________________________________________________________\n"
     ]
    }
   ],
   "source": [
    "model = models.Sequential()\n",
    "model.add(conv_base)\n",
    "model.add(layers.GlobalMaxPooling2D(name='gap'))\n",
    "model.add(layers.Dropout(rate=0.2,name='dropout'))\n",
    "model.add(layers.Dense(n_classes,activation='softmax',name='fc_out'))\n",
    "conv_base.trainable = False\n",
    "model.compile(optimizer='adam',\n",
    "    loss='categorical_crossentropy',\n",
    "    metrics=['accuracy'])\n",
    "model.summary()"
   ]
  },
  {
   "cell_type": "code",
   "execution_count": 5,
   "metadata": {},
   "outputs": [
    {
     "output_type": "stream",
     "name": "stdout",
     "text": [
      "Epoch 1/10\n",
      "523/523 [==============================] - 885s 1s/step - loss: 1.4662 - accuracy: 0.7283 - val_loss: 0.4135 - val_accuracy: 0.8997\n",
      "Epoch 2/10\n",
      "523/523 [==============================] - 521s 996ms/step - loss: 0.5671 - accuracy: 0.8760 - val_loss: 0.1214 - val_accuracy: 0.9677\n",
      "Epoch 3/10\n",
      "523/523 [==============================] - 497s 951ms/step - loss: 0.4545 - accuracy: 0.8985 - val_loss: 0.1112 - val_accuracy: 0.9723\n",
      "Epoch 4/10\n",
      "523/523 [==============================] - 497s 950ms/step - loss: 0.4289 - accuracy: 0.9052 - val_loss: 0.1425 - val_accuracy: 0.9743\n",
      "Epoch 5/10\n",
      "523/523 [==============================] - 497s 950ms/step - loss: 0.3790 - accuracy: 0.9151 - val_loss: 0.1069 - val_accuracy: 0.9718\n",
      "Epoch 6/10\n",
      "523/523 [==============================] - 497s 950ms/step - loss: 0.3766 - accuracy: 0.9216 - val_loss: 0.0953 - val_accuracy: 0.9814\n",
      "Epoch 7/10\n",
      "523/523 [==============================] - 497s 950ms/step - loss: 0.3723 - accuracy: 0.9222 - val_loss: 0.0743 - val_accuracy: 0.9869\n",
      "Epoch 8/10\n",
      "523/523 [==============================] - 497s 951ms/step - loss: 0.3497 - accuracy: 0.9237 - val_loss: 0.0826 - val_accuracy: 0.9864\n",
      "Epoch 9/10\n",
      "523/523 [==============================] - 497s 951ms/step - loss: 0.3893 - accuracy: 0.9201 - val_loss: 0.0926 - val_accuracy: 0.9859\n",
      "Epoch 10/10\n",
      "523/523 [==============================] - 497s 951ms/step - loss: 0.3993 - accuracy: 0.9227 - val_loss: 0.0853 - val_accuracy: 0.9819\n"
     ]
    }
   ],
   "source": [
    "epochs=10\n",
    "\n",
    "history = model.fit(\n",
    "  train_ds,\n",
    "  validation_data=test_ds,\n",
    "  epochs=epochs\n",
    ")"
   ]
  },
  {
   "cell_type": "code",
   "execution_count": 6,
   "metadata": {},
   "outputs": [
    {
     "output_type": "stream",
     "name": "stderr",
     "text": [
      "C:\\Users\\superuser\\AppData\\Local\\Programs\\Python\\Python39\\lib\\site-packages\\tensorflow\\python\\keras\\utils\\generic_utils.py:494: CustomMaskWarning: Custom mask layers require a config and must override get_config. When loading, the custom mask layer must be passed to the custom_objects argument.\n",
      "  warnings.warn('Custom mask layers require a config and must override '\n",
      "INFO:tensorflow:Assets written to: C:\\Users\\superuser\\Documents\\DL\\models\\rotordet_net_v4\\assets\n"
     ]
    },
    {
     "output_type": "error",
     "ename": "NameError",
     "evalue": "name 'np' is not defined",
     "traceback": [
      "\u001b[1;31m---------------------------------------------------------------------------\u001b[0m",
      "\u001b[1;31mNameError\u001b[0m                                 Traceback (most recent call last)",
      "\u001b[1;32m<ipython-input-6-a847784d8f0b>\u001b[0m in \u001b[0;36m<module>\u001b[1;34m\u001b[0m\n\u001b[0;32m      1\u001b[0m \u001b[0mmodel\u001b[0m\u001b[1;33m.\u001b[0m\u001b[0msave\u001b[0m\u001b[1;33m(\u001b[0m\u001b[1;34mr'C:\\Users\\superuser\\Documents\\DL\\models\\rotordet_net_v4'\u001b[0m\u001b[1;33m)\u001b[0m\u001b[1;33m\u001b[0m\u001b[1;33m\u001b[0m\u001b[0m\n\u001b[1;32m----> 2\u001b[1;33m \u001b[0mnp\u001b[0m\u001b[1;33m.\u001b[0m\u001b[0msave\u001b[0m\u001b[1;33m(\u001b[0m\u001b[1;34m'my_history.npy'\u001b[0m\u001b[1;33m,\u001b[0m\u001b[0mhistory\u001b[0m\u001b[1;33m.\u001b[0m\u001b[0mhistory\u001b[0m\u001b[1;33m)\u001b[0m\u001b[1;33m\u001b[0m\u001b[1;33m\u001b[0m\u001b[0m\n\u001b[0m",
      "\u001b[1;31mNameError\u001b[0m: name 'np' is not defined"
     ]
    }
   ],
   "source": [
    "model.save(r'C:\\Users\\superuser\\Documents\\DL\\models\\rotordet_net_v4')\n",
    "np.save('my_history.npy',history.history)"
   ]
  },
  {
   "cell_type": "code",
   "execution_count": 9,
   "metadata": {},
   "outputs": [],
   "source": [
    "\n"
   ]
  }
 ]
}