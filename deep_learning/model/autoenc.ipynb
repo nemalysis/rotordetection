{
 "cells": [
  {
   "cell_type": "code",
   "execution_count": 26,
   "metadata": {},
   "outputs": [],
   "source": [
    "import os\r\n",
    "import matplotlib.pyplot as plt\r\n",
    "import numpy as np\r\n",
    "import pandas as pd\r\n",
    "import tensorflow as tf\r\n",
    "import PIL\r\n",
    "from random import randrange\r\n",
    "from tensorflow import keras\r\n",
    "from tensorflow.keras import layers, losses, Model\r\n",
    "from tensorflow.keras.preprocessing.image import ImageDataGenerator\r\n",
    "from tensorflow.keras.models import Sequential\r\n",
    "from sklearn.metrics import accuracy_score, precision_score, recall_score\r\n",
    "from sklearn.model_selection import train_test_split\r\n",
    "import pathlib\r\n",
    "from tensorflow.keras import models"
   ]
  },
  {
   "cell_type": "code",
   "execution_count": 8,
   "metadata": {},
   "outputs": [],
   "source": [
    "# latent_dim = 64 \n",
    "\n",
    "# class Autoencoder(Model):\n",
    "#   def __init__(self, latent_dim):\n",
    "#     super(Autoencoder, self).__init__()\n",
    "#     self.latent_dim = latent_dim   \n",
    "#     self.encoder = tf.keras.Sequential([\n",
    "#       layers.Flatten(),\n",
    "#       layers.Dense(latent_dim, activation='relu'),\n",
    "#     ])\n",
    "#     self.decoder = tf.keras.Sequential([\n",
    "#       layers.Dense(784, activation='sigmoid'),\n",
    "#       layers.Reshape((28, 28))\n",
    "#     ])\n",
    "\n",
    "#   def call(self, x):\n",
    "#     encoded = self.encoder(x)\n",
    "#     decoded = self.decoder(encoded)\n",
    "#     return decoded\n",
    "\n",
    "# autoencoder = Autoencoder(latent_dim)"
   ]
  },
  {
   "cell_type": "code",
   "execution_count": 114,
   "metadata": {},
   "outputs": [],
   "source": [
    "\r\n",
    "# class Denoise(Model):\r\n",
    "#   def __init__(self):\r\n",
    "#     super(Denoise, self).__init__()\r\n",
    "#     self.encoder = tf.keras.Sequential([\r\n",
    "#       layers.InputLayer(input_shape=(360, 640, 3)),\r\n",
    "#       layers.Conv2D(16, (3, 3), activation='relu', padding='same', strides=2),\r\n",
    "#       layers.Conv2D(8, (3, 3), activation='relu', padding='same', strides=2)])\r\n",
    "\r\n",
    "#     self.decoder = tf.keras.Sequential([\r\n",
    "#       layers.Conv2DTranspose(8, kernel_size=3, strides=2, activation='relu', padding='same'),\r\n",
    "#       layers.Conv2DTranspose(16, kernel_size=3, strides=2, activation='relu', padding='same'),\r\n",
    "#       layers.Conv2D(1, kernel_size=(3, 3), activation='sigmoid', padding='same')])\r\n",
    "\r\n",
    "#   def call(self, x):\r\n",
    "#     encoded = self.encoder(x)\r\n",
    "#     decoded = self.decoder(encoded)\r\n",
    "#     return decoded\r\n",
    "\r\n",
    "# autoencoder = Denoise()"
   ]
  },
  {
   "cell_type": "code",
   "execution_count": 12,
   "metadata": {},
   "outputs": [],
   "source": [
    "img_height = 180\r\n",
    "img_width = 320\r\n",
    "\r\n",
    "class Autoencoder(Model):\r\n",
    "  def __init__(self,img_height,img_width):\r\n",
    "    super(Autoencoder, self).__init__()\r\n",
    "    self.img_height = img_height\r\n",
    "    self.img_width = img_width   \r\n",
    "    self.encoder = tf.keras.Sequential([\r\n",
    "        # layers.experimental.preprocessing.Resizing(180,320),\r\n",
    "        layers.Conv2D(32, 8, padding='same', activation='relu'),\r\n",
    "        # layers.MaxPooling2D((2,2)),\r\n",
    "        layers.Conv2D(32, 8, padding='same', activation='relu'),\r\n",
    "        # layers.MaxPooling2D((2,2)),\r\n",
    "        layers.Conv2D(64, 8, padding='same', activation='relu'),\r\n",
    "        # layers.MaxPooling2D((2,2)),\r\n",
    "        layers.Conv2D(64, 8, padding='same', activation='relu'),\r\n",
    "        # layers.MaxPooling2D((2,2)),\r\n",
    "        layers.Conv2D(64, 8, padding='same', activation='relu')\r\n",
    "        # layers.MaxPooling2D((2,2))\r\n",
    "    ])\r\n",
    "    self.decoder = tf.keras.Sequential([\r\n",
    "        # layers.UpSampling2D((2,2)),\r\n",
    "        layers.Conv2DTranspose(64, 8, padding='same', activation='relu'),\r\n",
    "        # layers.UpSampling2D((2,2)),\r\n",
    "        layers.Conv2DTranspose(64, 8, padding='same', activation='relu'),\r\n",
    "        # layers.UpSampling2D((2,2)),\r\n",
    "        layers.Conv2DTranspose(64, 8, padding='same', activation='relu'),\r\n",
    "        # layers.UpSampling2D((2,2)),\r\n",
    "        layers.Conv2DTranspose(32, 8, padding='same', activation='relu'),\r\n",
    "        # layers.UpSampling2D((2,2)),\r\n",
    "        layers.Conv2DTranspose(32, 8, padding='same', activation='relu'),\r\n",
    "        layers.Conv2D(1, kernel_size=8, activation='sigmoid', padding='same')\r\n",
    "    ])\r\n",
    "\r\n",
    "  def call(self, x):\r\n",
    "    encoded = self.encoder(x)\r\n",
    "    decoded = self.decoder(encoded)\r\n",
    "    return decoded\r\n",
    "\r\n"
   ]
  },
  {
   "cell_type": "code",
   "execution_count": 53,
   "metadata": {},
   "outputs": [
    {
     "name": "stdout",
     "output_type": "stream",
     "text": [
      "Found 699 images belonging to 4 classes.\n"
     ]
    },
    {
     "data": {
      "text/plain": [
       "{'DL1': 0, 'DL2': 1, 'DL3': 2, 'DL_BG': 3}"
      ]
     },
     "execution_count": 53,
     "metadata": {},
     "output_type": "execute_result"
    }
   ],
   "source": [
    "train_dir = r'C:\\Users\\ThomasLai\\Documents\\Uni\\SoSe2021\\Signalverarbeitung\\Project\\train\\raw'\r\n",
    "# batch_size = 5\r\n",
    "batch_size = 10\r\n",
    "\r\n",
    "train_datagen = ImageDataGenerator(\r\n",
    "    rescale=1./255,\r\n",
    "    # validation_split = 0.9,\r\n",
    "    validation_split = 0.8,\r\n",
    "    fill_mode = 'constant'\r\n",
    "    \r\n",
    ")\r\n",
    "train_generator = train_datagen.flow_from_directory(\r\n",
    "    train_dir,\r\n",
    "    subset='training',\r\n",
    "    target_size=(img_height, img_width),\r\n",
    "    batch_size=batch_size,\r\n",
    "    class_mode='input'\r\n",
    "    # class_mode=\"categorical\"\r\n",
    ")\r\n",
    "n_classes = len(train_generator.class_indices)\r\n",
    "train_generator.class_indices"
   ]
  },
  {
   "cell_type": "code",
   "execution_count": null,
   "metadata": {},
   "outputs": [],
   "source": [
    "autoencoder = Autoencoder(img_height,img_width)\r\n",
    "autoencoder.compile(optimizer='adam', loss=losses.MeanSquaredError())"
   ]
  },
  {
   "cell_type": "code",
   "execution_count": 54,
   "metadata": {},
   "outputs": [
    {
     "name": "stdout",
     "output_type": "stream",
     "text": [
      "Epoch 1/5\n",
      "140/140 [==============================] - 141s 999ms/step - loss: 0.0349\n",
      "Epoch 2/5\n",
      "140/140 [==============================] - 139s 994ms/step - loss: 0.0205\n",
      "Epoch 3/5\n",
      "140/140 [==============================] - 141s 1s/step - loss: 0.0159\n",
      "Epoch 4/5\n",
      "140/140 [==============================] - 140s 1s/step - loss: 0.0166\n",
      "Epoch 5/5\n",
      "140/140 [==============================] - 140s 999ms/step - loss: 0.0250\n"
     ]
    },
    {
     "data": {
      "text/plain": [
       "<tensorflow.python.keras.callbacks.History at 0x15a5121d460>"
      ]
     },
     "execution_count": 54,
     "metadata": {},
     "output_type": "execute_result"
    }
   ],
   "source": [
    "autoencoder.fit(train_generator,\r\n",
    "    epochs=5,\r\n",
    "    shuffle=True,\r\n",
    "    verbose=1)"
   ]
  },
  {
   "cell_type": "code",
   "execution_count": 55,
   "metadata": {},
   "outputs": [],
   "source": [
    "# autoencoder.predict()\r\n",
    "x = np.array(train_generator.next())"
   ]
  },
  {
   "cell_type": "code",
   "execution_count": 56,
   "metadata": {},
   "outputs": [
    {
     "name": "stdout",
     "output_type": "stream",
     "text": [
      "WARNING:tensorflow:5 out of the last 7 calls to <function Model.make_predict_function.<locals>.predict_function at 0x0000015A4667D430> triggered tf.function retracing. Tracing is expensive and the excessive number of tracings could be due to (1) creating @tf.function repeatedly in a loop, (2) passing tensors with different shapes, (3) passing Python objects instead of tensors. For (1), please define your @tf.function outside of the loop. For (2), @tf.function has experimental_relax_shapes=True option that relaxes argument shapes that can avoid unnecessary retracing. For (3), please refer to https://www.tensorflow.org/guide/function#controlling_retracing and https://www.tensorflow.org/api_docs/python/tf/function for  more details.\n"
     ]
    },
    {
     "data": {
      "text/plain": [
       "<matplotlib.image.AxesImage at 0x15a4a3eb6d0>"
      ]
     },
     "execution_count": 56,
     "metadata": {},
     "output_type": "execute_result"
    },
    {
     "data": {
      "image/png": "[encoded data removed]",
      "text/plain": [
       "<Figure size 432x288 with 2 Axes>"
      ]
     },
     "metadata": {
      "needs_background": "light"
     },
     "output_type": "display_data"
    }
   ],
   "source": [
    "import matplotlib.pyplot as plt\r\n",
    "i=1\r\n",
    "y_pred = autoencoder.predict(x[0])\r\n",
    "plt.subplot(1,2,1)\r\n",
    "plt.imshow(y_pred[i])\r\n",
    "plt.subplot(1,2,2)\r\n",
    "plt.imshow(x[0][i])"
   ]
  },
  {
   "cell_type": "code",
   "execution_count": 46,
   "metadata": {},
   "outputs": [
    {
     "name": "stdout",
     "output_type": "stream",
     "text": [
      "Model: \"sequential_11\"\n",
      "_________________________________________________________________\n",
      "Layer (type)                 Output Shape              Param #   \n",
      "=================================================================\n",
      "rescaling_3 (Rescaling)      (None, 180, 320, 3)       0         \n",
      "_________________________________________________________________\n",
      "sequential_6 (Sequential)    (None, None, None, 64)    727296    \n",
      "_________________________________________________________________\n",
      "gap (GlobalMaxPooling2D)     (None, 64)                0         \n",
      "_________________________________________________________________\n",
      "dropout (Dropout)            (None, 64)                0         \n",
      "_________________________________________________________________\n",
      "fc_out (Dense)               (None, 4)                 260       \n",
      "=================================================================\n",
      "Total params: 727,556\n",
      "Trainable params: 260\n",
      "Non-trainable params: 727,296\n",
      "_________________________________________________________________\n"
     ]
    }
   ],
   "source": [
    "conv_base = autoencoder.encoder\r\n",
    "model = models.Sequential([\r\n",
    "    layers.experimental.preprocessing.Rescaling(scale=1./255, input_shape=(img_height,img_width,3)),\r\n",
    "    conv_base,\r\n",
    "    layers.GlobalMaxPooling2D(name='gap'),\r\n",
    "    layers.Dropout(rate=0.2,name='dropout'),\r\n",
    "    layers.Dense(n_classes,activation='softmax',name='fc_out')\r\n",
    "])\r\n",
    "conv_base.trainable = False\r\n",
    "\r\n",
    "model.compile(optimizer='adam',\r\n",
    "    loss='categorical_crossentropy',\r\n",
    "    metrics=['accuracy'])\r\n",
    "\r\n",
    "model.summary()\r\n"
   ]
  },
  {
   "cell_type": "code",
   "execution_count": 41,
   "metadata": {},
   "outputs": [
    {
     "name": "stdout",
     "output_type": "stream",
     "text": [
      "Found 2089 images belonging to 4 classes.\n",
      "Found 2975 images belonging to 4 classes.\n"
     ]
    }
   ],
   "source": [
    "train_dir = r'C:\\Users\\ThomasLai\\Documents\\Uni\\SoSe2021\\Signalverarbeitung\\Project\\train\\raw'\r\n",
    "test_dir = r'C:\\Users\\ThomasLai\\Documents\\Uni\\SoSe2021\\Signalverarbeitung\\Project\\test\\raw'\r\n",
    "\r\n",
    "train_datagen_finetune = ImageDataGenerator(\r\n",
    "    rescale=1./255,\r\n",
    "    fill_mode = 'constant',\r\n",
    "    validation_split=0.3\r\n",
    ")\r\n",
    "train_generator_finetune = train_datagen_finetune.flow_from_directory(\r\n",
    "    train_dir,\r\n",
    "    subset='validation',\r\n",
    "    target_size=(img_height, img_width),\r\n",
    "    batch_size=20,\r\n",
    "    class_mode=\"categorical\"\r\n",
    ")\r\n",
    "\r\n",
    "test_generator_finetune = train_datagen_finetune.flow_from_directory(\r\n",
    "    test_dir,\r\n",
    "    subset='validation',\r\n",
    "    target_size=(img_height, img_width),\r\n",
    "    batch_size=20,\r\n",
    "    class_mode=\"categorical\"\r\n",
    ")"
   ]
  },
  {
   "cell_type": "code",
   "execution_count": 47,
   "metadata": {},
   "outputs": [
    {
     "name": "stdout",
     "output_type": "stream",
     "text": [
      "Epoch 1/10\n",
      "105/105 [==============================] - 57s 540ms/step - loss: 1.3842 - accuracy: 0.2792 - val_loss: 1.3621 - val_accuracy: 0.3166\n",
      "Epoch 2/10\n",
      "105/105 [==============================] - 43s 415ms/step - loss: 1.3655 - accuracy: 0.2784 - val_loss: 1.3492 - val_accuracy: 0.3166\n",
      "Epoch 3/10\n",
      "105/105 [==============================] - ETA: 0s - loss: 1.3582 - accuracy: 0.2881"
     ]
    },
    {
     "ename": "KeyboardInterrupt",
     "evalue": "",
     "output_type": "error",
     "traceback": [
      "\u001b[1;31m---------------------------------------------------------------------------\u001b[0m",
      "\u001b[1;31mKeyboardInterrupt\u001b[0m                         Traceback (most recent call last)",
      "\u001b[1;32m<ipython-input-47-31e0c1482a83>\u001b[0m in \u001b[0;36m<module>\u001b[1;34m\u001b[0m\n\u001b[1;32m----> 1\u001b[1;33m model.fit(train_generator_finetune,\n\u001b[0m\u001b[0;32m      2\u001b[0m     \u001b[0mepochs\u001b[0m\u001b[1;33m=\u001b[0m\u001b[1;36m10\u001b[0m\u001b[1;33m,\u001b[0m\u001b[1;33m\u001b[0m\u001b[1;33m\u001b[0m\u001b[0m\n\u001b[0;32m      3\u001b[0m     \u001b[0mshuffle\u001b[0m\u001b[1;33m=\u001b[0m\u001b[1;32mTrue\u001b[0m\u001b[1;33m,\u001b[0m\u001b[1;33m\u001b[0m\u001b[1;33m\u001b[0m\u001b[0m\n\u001b[0;32m      4\u001b[0m     \u001b[0mvalidation_data\u001b[0m\u001b[1;33m=\u001b[0m\u001b[0mtest_generator_finetune\u001b[0m\u001b[1;33m,\u001b[0m\u001b[1;33m\u001b[0m\u001b[1;33m\u001b[0m\u001b[0m\n\u001b[0;32m      5\u001b[0m     )\n",
      "\u001b[1;32m~\\AppData\\Local\\Programs\\Python\\Python39\\lib\\site-packages\\tensorflow\\python\\keras\\engine\\training.py\u001b[0m in \u001b[0;36mfit\u001b[1;34m(self, x, y, batch_size, epochs, verbose, callbacks, validation_split, validation_data, shuffle, class_weight, sample_weight, initial_epoch, steps_per_epoch, validation_steps, validation_batch_size, validation_freq, max_queue_size, workers, use_multiprocessing)\u001b[0m\n\u001b[0;32m   1212\u001b[0m                 \u001b[0mmodel\u001b[0m\u001b[1;33m=\u001b[0m\u001b[0mself\u001b[0m\u001b[1;33m,\u001b[0m\u001b[1;33m\u001b[0m\u001b[1;33m\u001b[0m\u001b[0m\n\u001b[0;32m   1213\u001b[0m                 steps_per_execution=self._steps_per_execution)\n\u001b[1;32m-> 1214\u001b[1;33m           val_logs = self.evaluate(\n\u001b[0m\u001b[0;32m   1215\u001b[0m               \u001b[0mx\u001b[0m\u001b[1;33m=\u001b[0m\u001b[0mval_x\u001b[0m\u001b[1;33m,\u001b[0m\u001b[1;33m\u001b[0m\u001b[1;33m\u001b[0m\u001b[0m\n\u001b[0;32m   1216\u001b[0m               \u001b[0my\u001b[0m\u001b[1;33m=\u001b[0m\u001b[0mval_y\u001b[0m\u001b[1;33m,\u001b[0m\u001b[1;33m\u001b[0m\u001b[1;33m\u001b[0m\u001b[0m\n",
      "\u001b[1;32m~\\AppData\\Local\\Programs\\Python\\Python39\\lib\\site-packages\\tensorflow\\python\\keras\\engine\\training.py\u001b[0m in \u001b[0;36mevaluate\u001b[1;34m(self, x, y, batch_size, verbose, sample_weight, steps, callbacks, max_queue_size, workers, use_multiprocessing, return_dict, **kwargs)\u001b[0m\n\u001b[0;32m   1487\u001b[0m             \u001b[1;32mwith\u001b[0m \u001b[0mtrace\u001b[0m\u001b[1;33m.\u001b[0m\u001b[0mTrace\u001b[0m\u001b[1;33m(\u001b[0m\u001b[1;34m'test'\u001b[0m\u001b[1;33m,\u001b[0m \u001b[0mstep_num\u001b[0m\u001b[1;33m=\u001b[0m\u001b[0mstep\u001b[0m\u001b[1;33m,\u001b[0m \u001b[0m_r\u001b[0m\u001b[1;33m=\u001b[0m\u001b[1;36m1\u001b[0m\u001b[1;33m)\u001b[0m\u001b[1;33m:\u001b[0m\u001b[1;33m\u001b[0m\u001b[1;33m\u001b[0m\u001b[0m\n\u001b[0;32m   1488\u001b[0m               \u001b[0mcallbacks\u001b[0m\u001b[1;33m.\u001b[0m\u001b[0mon_test_batch_begin\u001b[0m\u001b[1;33m(\u001b[0m\u001b[0mstep\u001b[0m\u001b[1;33m)\u001b[0m\u001b[1;33m\u001b[0m\u001b[1;33m\u001b[0m\u001b[0m\n\u001b[1;32m-> 1489\u001b[1;33m               \u001b[0mtmp_logs\u001b[0m \u001b[1;33m=\u001b[0m \u001b[0mself\u001b[0m\u001b[1;33m.\u001b[0m\u001b[0mtest_function\u001b[0m\u001b[1;33m(\u001b[0m\u001b[0miterator\u001b[0m\u001b[1;33m)\u001b[0m\u001b[1;33m\u001b[0m\u001b[1;33m\u001b[0m\u001b[0m\n\u001b[0m\u001b[0;32m   1490\u001b[0m               \u001b[1;32mif\u001b[0m \u001b[0mdata_handler\u001b[0m\u001b[1;33m.\u001b[0m\u001b[0mshould_sync\u001b[0m\u001b[1;33m:\u001b[0m\u001b[1;33m\u001b[0m\u001b[1;33m\u001b[0m\u001b[0m\n\u001b[0;32m   1491\u001b[0m                 \u001b[0mcontext\u001b[0m\u001b[1;33m.\u001b[0m\u001b[0masync_wait\u001b[0m\u001b[1;33m(\u001b[0m\u001b[1;33m)\u001b[0m\u001b[1;33m\u001b[0m\u001b[1;33m\u001b[0m\u001b[0m\n",
      "\u001b[1;32m~\\AppData\\Local\\Programs\\Python\\Python39\\lib\\site-packages\\tensorflow\\python\\eager\\def_function.py\u001b[0m in \u001b[0;36m__call__\u001b[1;34m(self, *args, **kwds)\u001b[0m\n\u001b[0;32m    887\u001b[0m \u001b[1;33m\u001b[0m\u001b[0m\n\u001b[0;32m    888\u001b[0m       \u001b[1;32mwith\u001b[0m \u001b[0mOptionalXlaContext\u001b[0m\u001b[1;33m(\u001b[0m\u001b[0mself\u001b[0m\u001b[1;33m.\u001b[0m\u001b[0m_jit_compile\u001b[0m\u001b[1;33m)\u001b[0m\u001b[1;33m:\u001b[0m\u001b[1;33m\u001b[0m\u001b[1;33m\u001b[0m\u001b[0m\n\u001b[1;32m--> 889\u001b[1;33m         \u001b[0mresult\u001b[0m \u001b[1;33m=\u001b[0m \u001b[0mself\u001b[0m\u001b[1;33m.\u001b[0m\u001b[0m_call\u001b[0m\u001b[1;33m(\u001b[0m\u001b[1;33m*\u001b[0m\u001b[0margs\u001b[0m\u001b[1;33m,\u001b[0m \u001b[1;33m**\u001b[0m\u001b[0mkwds\u001b[0m\u001b[1;33m)\u001b[0m\u001b[1;33m\u001b[0m\u001b[1;33m\u001b[0m\u001b[0m\n\u001b[0m\u001b[0;32m    890\u001b[0m \u001b[1;33m\u001b[0m\u001b[0m\n\u001b[0;32m    891\u001b[0m       \u001b[0mnew_tracing_count\u001b[0m \u001b[1;33m=\u001b[0m \u001b[0mself\u001b[0m\u001b[1;33m.\u001b[0m\u001b[0mexperimental_get_tracing_count\u001b[0m\u001b[1;33m(\u001b[0m\u001b[1;33m)\u001b[0m\u001b[1;33m\u001b[0m\u001b[1;33m\u001b[0m\u001b[0m\n",
      "\u001b[1;32m~\\AppData\\Local\\Programs\\Python\\Python39\\lib\\site-packages\\tensorflow\\python\\eager\\def_function.py\u001b[0m in \u001b[0;36m_call\u001b[1;34m(self, *args, **kwds)\u001b[0m\n\u001b[0;32m    922\u001b[0m       \u001b[1;31m# In this case we have not created variables on the first call. So we can\u001b[0m\u001b[1;33m\u001b[0m\u001b[1;33m\u001b[0m\u001b[1;33m\u001b[0m\u001b[0m\n\u001b[0;32m    923\u001b[0m       \u001b[1;31m# run the first trace but we should fail if variables are created.\u001b[0m\u001b[1;33m\u001b[0m\u001b[1;33m\u001b[0m\u001b[1;33m\u001b[0m\u001b[0m\n\u001b[1;32m--> 924\u001b[1;33m       \u001b[0mresults\u001b[0m \u001b[1;33m=\u001b[0m \u001b[0mself\u001b[0m\u001b[1;33m.\u001b[0m\u001b[0m_stateful_fn\u001b[0m\u001b[1;33m(\u001b[0m\u001b[1;33m*\u001b[0m\u001b[0margs\u001b[0m\u001b[1;33m,\u001b[0m \u001b[1;33m**\u001b[0m\u001b[0mkwds\u001b[0m\u001b[1;33m)\u001b[0m\u001b[1;33m\u001b[0m\u001b[1;33m\u001b[0m\u001b[0m\n\u001b[0m\u001b[0;32m    925\u001b[0m       \u001b[1;32mif\u001b[0m \u001b[0mself\u001b[0m\u001b[1;33m.\u001b[0m\u001b[0m_created_variables\u001b[0m\u001b[1;33m:\u001b[0m\u001b[1;33m\u001b[0m\u001b[1;33m\u001b[0m\u001b[0m\n\u001b[0;32m    926\u001b[0m         raise ValueError(\"Creating variables on a non-first call to a function\"\n",
      "\u001b[1;32m~\\AppData\\Local\\Programs\\Python\\Python39\\lib\\site-packages\\tensorflow\\python\\eager\\function.py\u001b[0m in \u001b[0;36m__call__\u001b[1;34m(self, *args, **kwargs)\u001b[0m\n\u001b[0;32m   3021\u001b[0m       (graph_function,\n\u001b[0;32m   3022\u001b[0m        filtered_flat_args) = self._maybe_define_function(args, kwargs)\n\u001b[1;32m-> 3023\u001b[1;33m     return graph_function._call_flat(\n\u001b[0m\u001b[0;32m   3024\u001b[0m         filtered_flat_args, captured_inputs=graph_function.captured_inputs)  # pylint: disable=protected-access\n\u001b[0;32m   3025\u001b[0m \u001b[1;33m\u001b[0m\u001b[0m\n",
      "\u001b[1;32m~\\AppData\\Local\\Programs\\Python\\Python39\\lib\\site-packages\\tensorflow\\python\\eager\\function.py\u001b[0m in \u001b[0;36m_call_flat\u001b[1;34m(self, args, captured_inputs, cancellation_manager)\u001b[0m\n\u001b[0;32m   1958\u001b[0m         and executing_eagerly):\n\u001b[0;32m   1959\u001b[0m       \u001b[1;31m# No tape is watching; skip to running the function.\u001b[0m\u001b[1;33m\u001b[0m\u001b[1;33m\u001b[0m\u001b[1;33m\u001b[0m\u001b[0m\n\u001b[1;32m-> 1960\u001b[1;33m       return self._build_call_outputs(self._inference_function.call(\n\u001b[0m\u001b[0;32m   1961\u001b[0m           ctx, args, cancellation_manager=cancellation_manager))\n\u001b[0;32m   1962\u001b[0m     forward_backward = self._select_forward_and_backward_functions(\n",
      "\u001b[1;32m~\\AppData\\Local\\Programs\\Python\\Python39\\lib\\site-packages\\tensorflow\\python\\eager\\function.py\u001b[0m in \u001b[0;36mcall\u001b[1;34m(self, ctx, args, cancellation_manager)\u001b[0m\n\u001b[0;32m    589\u001b[0m       \u001b[1;32mwith\u001b[0m \u001b[0m_InterpolateFunctionError\u001b[0m\u001b[1;33m(\u001b[0m\u001b[0mself\u001b[0m\u001b[1;33m)\u001b[0m\u001b[1;33m:\u001b[0m\u001b[1;33m\u001b[0m\u001b[1;33m\u001b[0m\u001b[0m\n\u001b[0;32m    590\u001b[0m         \u001b[1;32mif\u001b[0m \u001b[0mcancellation_manager\u001b[0m \u001b[1;32mis\u001b[0m \u001b[1;32mNone\u001b[0m\u001b[1;33m:\u001b[0m\u001b[1;33m\u001b[0m\u001b[1;33m\u001b[0m\u001b[0m\n\u001b[1;32m--> 591\u001b[1;33m           outputs = execute.execute(\n\u001b[0m\u001b[0;32m    592\u001b[0m               \u001b[0mstr\u001b[0m\u001b[1;33m(\u001b[0m\u001b[0mself\u001b[0m\u001b[1;33m.\u001b[0m\u001b[0msignature\u001b[0m\u001b[1;33m.\u001b[0m\u001b[0mname\u001b[0m\u001b[1;33m)\u001b[0m\u001b[1;33m,\u001b[0m\u001b[1;33m\u001b[0m\u001b[1;33m\u001b[0m\u001b[0m\n\u001b[0;32m    593\u001b[0m               \u001b[0mnum_outputs\u001b[0m\u001b[1;33m=\u001b[0m\u001b[0mself\u001b[0m\u001b[1;33m.\u001b[0m\u001b[0m_num_outputs\u001b[0m\u001b[1;33m,\u001b[0m\u001b[1;33m\u001b[0m\u001b[1;33m\u001b[0m\u001b[0m\n",
      "\u001b[1;32m~\\AppData\\Local\\Programs\\Python\\Python39\\lib\\site-packages\\tensorflow\\python\\eager\\execute.py\u001b[0m in \u001b[0;36mquick_execute\u001b[1;34m(op_name, num_outputs, inputs, attrs, ctx, name)\u001b[0m\n\u001b[0;32m     57\u001b[0m   \u001b[1;32mtry\u001b[0m\u001b[1;33m:\u001b[0m\u001b[1;33m\u001b[0m\u001b[1;33m\u001b[0m\u001b[0m\n\u001b[0;32m     58\u001b[0m     \u001b[0mctx\u001b[0m\u001b[1;33m.\u001b[0m\u001b[0mensure_initialized\u001b[0m\u001b[1;33m(\u001b[0m\u001b[1;33m)\u001b[0m\u001b[1;33m\u001b[0m\u001b[1;33m\u001b[0m\u001b[0m\n\u001b[1;32m---> 59\u001b[1;33m     tensors = pywrap_tfe.TFE_Py_Execute(ctx._handle, device_name, op_name,\n\u001b[0m\u001b[0;32m     60\u001b[0m                                         inputs, attrs, num_outputs)\n\u001b[0;32m     61\u001b[0m   \u001b[1;32mexcept\u001b[0m \u001b[0mcore\u001b[0m\u001b[1;33m.\u001b[0m\u001b[0m_NotOkStatusException\u001b[0m \u001b[1;32mas\u001b[0m \u001b[0me\u001b[0m\u001b[1;33m:\u001b[0m\u001b[1;33m\u001b[0m\u001b[1;33m\u001b[0m\u001b[0m\n",
      "\u001b[1;31mKeyboardInterrupt\u001b[0m: "
     ]
    }
   ],
   "source": [
    "model.fit(train_generator_finetune,\r\n",
    "    epochs=10,\r\n",
    "    shuffle=True,\r\n",
    "    validation_data=test_generator_finetune,\r\n",
    "    )"
   ]
  }
 ],
 "metadata": {
  "interpreter": {
   "hash": "106affc6d0f8d5ca3ba849ab45898a16a824c4265a3e186fddcdaabf320a37bc"
  },
  "kernelspec": {
   "display_name": "Python 3.9.5 64-bit",
   "name": "python3"
  },
  "language_info": {
   "codemirror_mode": {
    "name": "ipython",
    "version": 3
   },
   "file_extension": ".py",
   "mimetype": "text/x-python",
   "name": "python",
   "nbconvert_exporter": "python",
   "pygments_lexer": "ipython3",
   "version": "3.9.5"
  },
  "orig_nbformat": 4
 },
 "nbformat": 4,
 "nbformat_minor": 2
}